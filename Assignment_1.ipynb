{
 "cells": [
  {
   "cell_type": "markdown",
   "metadata": {},
   "source": [
    "## Part 1: Algorithm to calculate the factorial of a positive integer n"
   ]
  },
  {
   "cell_type": "markdown",
   "metadata": {},
   "source": [
    "### Algorithm - factorial($n$)\n",
    "Input: $n$ a natural number\n",
    "\n",
    "Output: the $n$th factorial number\n",
    " 1. if $n$ = 1 then\n",
    " 2.      return 1\n",
    " 3. else \n",
    " 4. return $n$ * factorial($n$ - 1)\n",
    " 5. endif"
   ]
  },
  {
   "cell_type": "markdown",
   "metadata": {},
   "source": [
    "## Part 2:"
   ]
  },
  {
   "cell_type": "code",
   "execution_count": null,
   "metadata": {},
   "outputs": [],
   "source": [
    "from scipy.optimize import curve_fit\n",
    "import numpy as np\n",
    "import matplotlib.pyplot as plt\n",
    "import time"
   ]
  },
  {
   "cell_type": "code",
   "execution_count": null,
   "metadata": {},
   "outputs": [],
   "source": [
    "# Iterative \n",
    "\n",
    "def iterative_factorial(n):\n",
    "    product = 1\n",
    "    for i in range(n):\n",
    "        product *=   i + 1\n",
    "    return product\n",
    " \n"
   ]
  },
  {
   "cell_type": "code",
   "execution_count": null,
   "metadata": {},
   "outputs": [],
   "source": [
    "# Iterative function tests (should print 6 and 3628800 respectively):\n",
    "\n",
    "print(iterative_factorial(3))\n",
    "print(iterative_factorial(10))"
   ]
  },
  {
   "cell_type": "code",
   "execution_count": null,
   "metadata": {},
   "outputs": [],
   "source": [
    "# Non-tail recursion\n",
    "\n",
    "def non_tail_factorial(n):\n",
    "    if n == 1:\n",
    "        return 1\n",
    "    else:\n",
    "        return n * non_tail_factorial(n - 1)"
   ]
  },
  {
   "cell_type": "code",
   "execution_count": null,
   "metadata": {},
   "outputs": [],
   "source": [
    "# Non-tail recursive function tests (should print 6 and 3628800 respectively):\n",
    "\n",
    "print(non_tail_factorial(3))\n",
    "print(non_tail_factorial(10))"
   ]
  },
  {
   "cell_type": "code",
   "execution_count": null,
   "metadata": {},
   "outputs": [],
   "source": [
    "# Tail recursion\n",
    "\n",
    "def tail_factorial(n, acc):\n",
    "    if n == 1:\n",
    "        return acc\n",
    "    else:\n",
    "        return tail_factorial(n - 1, n * acc)"
   ]
  },
  {
   "cell_type": "code",
   "execution_count": null,
   "metadata": {},
   "outputs": [],
   "source": [
    "# Tail recursive function tests (should print 6 and 3628800 respectively):\n",
    "\n",
    "print(tail_factorial(3,1))\n",
    "print(tail_factorial(10,1))"
   ]
  },
  {
   "cell_type": "code",
   "execution_count": null,
   "metadata": {},
   "outputs": [],
   "source": [
    "# This is an array ranging from 1 to 1000 (with an increment of 5). It will be used in the various functions which will follow.\n",
    "\n",
    "input_array = list(range(1, 1000, 5))"
   ]
  },
  {
   "cell_type": "code",
   "execution_count": null,
   "metadata": {},
   "outputs": [],
   "source": [
    "# Initialise arrays to hold the time and result of each loop of the function.\n",
    "\n",
    "iterative_time=[]\n",
    "iterative_results=[]"
   ]
  },
  {
   "cell_type": "code",
   "execution_count": null,
   "metadata": {},
   "outputs": [],
   "source": [
    "# for loop which appends running time and result for iterative factorial funciton\n",
    "# for each value in the input_array to the above arrays.\n",
    "\n",
    "for val in input_array:\n",
    "    start=time.perf_counter()\n",
    "    \n",
    "    iterative_results.append(iterative_factorial(val))\n",
    "    iterative_time.append((time.perf_counter()-start)*10e6)\n",
    "    "
   ]
  },
  {
   "cell_type": "code",
   "execution_count": null,
   "metadata": {},
   "outputs": [],
   "source": [
    "# Plot the running time of the iterative fatorial algorithm.\n",
    "\n",
    "plt.figure(figsize=(8,6))\n",
    "plt.xlabel('n')\n",
    "plt.ylabel(\"Running Time, micro s\")\n",
    "plt.plot(input_array,iterative_time)\n",
    "plt.savefig('Factorial_Iterative.png')\n",
    "plt.show()\n",
    "\n"
   ]
  },
  {
   "cell_type": "code",
   "execution_count": null,
   "metadata": {},
   "outputs": [],
   "source": [
    "# Initialise arrays to hold the time and result of each loop of the function.\n",
    "\n",
    "non_tail_time=[]\n",
    "non_tail_results=[]"
   ]
  },
  {
   "cell_type": "code",
   "execution_count": null,
   "metadata": {},
   "outputs": [],
   "source": [
    "# for loop which appends running time and result for non-tail recursive factorial funciton\n",
    "# for each value in the input_array to the above arrays.\n",
    "\n",
    "\n",
    "for val in input_array:\n",
    "    start=time.perf_counter()\n",
    "    \n",
    "    non_tail_results.append(non_tail_factorial(val))\n",
    "    non_tail_time.append((time.perf_counter()-start)*10e6)\n",
    "    "
   ]
  },
  {
   "cell_type": "code",
   "execution_count": null,
   "metadata": {},
   "outputs": [],
   "source": [
    "# Plot the running time of the non-tail recursive fatorial algorithm.\n",
    "\n",
    "\n",
    "plt.figure(figsize=(8,6))\n",
    "plt.xlabel('n')\n",
    "plt.ylabel(\"Running Time, micro s\")\n",
    "plt.plot(input_array,non_tail_time)\n",
    "plt.savefig('Factorial_Non_Tail.png')\n",
    "plt.show()\n",
    "\n"
   ]
  },
  {
   "cell_type": "code",
   "execution_count": null,
   "metadata": {},
   "outputs": [],
   "source": [
    "# Initialise arrays to hold the time and result of each loop of the function.\n",
    "\n",
    "tail_time=[]\n",
    "tail_results=[]"
   ]
  },
  {
   "cell_type": "code",
   "execution_count": null,
   "metadata": {},
   "outputs": [],
   "source": [
    "# for loop which appends running time and result for tail recursive factorial funciton\n",
    "# for each value in the input_array to the above arrays.\n",
    "\n",
    "for val in input_array:\n",
    "    start=time.perf_counter()\n",
    "    \n",
    "    tail_results.append(tail_factorial(val, 1))\n",
    "    tail_time.append((time.perf_counter()-start)*10e6)\n",
    "    "
   ]
  },
  {
   "cell_type": "code",
   "execution_count": null,
   "metadata": {},
   "outputs": [],
   "source": [
    "# Plot the running time of the tail recursive fatorial algorithm.\n",
    "\n",
    "\n",
    "plt.figure(figsize=(8,6))\n",
    "plt.xlabel('n')\n",
    "plt.ylabel(\"Running Time, micro s\")\n",
    "plt.plot(input_array,tail_time)\n",
    "plt.savefig('Factorial_Tail.png')\n",
    "plt.show()\n"
   ]
  },
  {
   "cell_type": "code",
   "execution_count": null,
   "metadata": {},
   "outputs": [],
   "source": [
    "plt.figure(figsize=(8,6))\n",
    "plt.plot(input_array, iterative_time, 'r', label=\"Iterative\")\n",
    "plt.plot(input_array, non_tail_time, 'b', label=\"Recursive: Non Tail\")\n",
    "plt.plot(input_array, tail_time, 'g', label=\"Recursive: Tail\")\n",
    "plt.xlabel('n')\n",
    "plt.ylabel('Running Time (micro seconds)')\n",
    "plt.savefig('Factorial_Algorithms_Comparison.png')\n",
    "plt.legend()"
   ]
  },
  {
   "cell_type": "markdown",
   "metadata": {},
   "source": [
    "The graph above plots the three factorial algorithms (iterative, recursive non-tail, recursive - tail). \n",
    "\n",
    "Although, they are all quite close in terms of speed it can be seen that the iterative function has the lowest running time, followed by recursive non-tail, and, then, recursive tail.\n",
    "\n",
    "Despite, tail recursion's slower running time, it can be said to be better than non-tail recusion in terms of space complexity as it does not need to store addresses in a stack.\n",
    "\n",
    "Each of the functions display a linear time complexity which is $\\mathcal{O}(n)$."
   ]
  },
  {
   "cell_type": "markdown",
   "metadata": {},
   "source": [
    "## Parts 3 and 4:"
   ]
  },
  {
   "cell_type": "markdown",
   "metadata": {},
   "source": [
    "### Binary Search - Iterative"
   ]
  },
  {
   "cell_type": "code",
   "execution_count": null,
   "metadata": {},
   "outputs": [],
   "source": [
    "# Algorithm/function for iterative binary search.\n",
    "\n",
    "def binary_search_iterative(data, target):\n",
    "  \"\"\"Return True if target is found in the given Python list.\"\"\"\n",
    "  low = 0\n",
    "  high = len(data)-1\n",
    "  while low <= high:\n",
    "    mid = (low + high) // 2\n",
    "    if target == data[mid]:         # found a match\n",
    "      return True\n",
    "    elif target < data[mid]:\n",
    "      high = mid - 1                # look only at values left of mid\n",
    "    else:\n",
    "      low = mid + 1                 # look only at values right of mid\n",
    "  return False                      # loop ended without success"
   ]
  },
  {
   "cell_type": "code",
   "execution_count": null,
   "metadata": {},
   "outputs": [],
   "source": [
    "# check for value in the input_array using the binary_search_iterative algorithm\n",
    "# Should return False\n",
    "\n",
    "binary_search_iterative(input_array, 130767436800)"
   ]
  },
  {
   "cell_type": "code",
   "execution_count": null,
   "metadata": {},
   "outputs": [],
   "source": [
    "# Best-case running time\n",
    "# Best-case running time is computed by timing the search for the value at half-way point in the array.\n",
    "\n",
    "start=time.perf_counter()\n",
    "    \n",
    "binary_search_iterative(input_array, input_array[len(input_array)//2])\n",
    "time_stop=time.perf_counter()\n",
    "\n",
    "# Compute best-case running time. \n",
    "\n",
    "print((time_stop-start)*10e6)"
   ]
  },
  {
   "cell_type": "markdown",
   "metadata": {},
   "source": [
    "The average best-case running time was 1179 microseconds."
   ]
  },
  {
   "cell_type": "code",
   "execution_count": null,
   "metadata": {},
   "outputs": [],
   "source": [
    "# Worst-case running time\n",
    "# Worst-case running time is found by searching for a value which is not present in the array.\n",
    "\n",
    "start=time.perf_counter()\n",
    "    \n",
    "binary_search_iterative(input_array, 3)\n",
    "time_stop=time.perf_counter()\n",
    "\n",
    "# Compute best-case running time. \n",
    "\n",
    "print((time_stop-start)*10e6)"
   ]
  },
  {
   "cell_type": "markdown",
   "metadata": {},
   "source": [
    "The average worst-case running time was 2174 microseconds."
   ]
  },
  {
   "cell_type": "code",
   "execution_count": null,
   "metadata": {},
   "outputs": [],
   "source": [
    "# Initialise arrays to hold the time, result and array length of each loop of the function.\n",
    "\n",
    "binary_iterative_time=[]\n",
    "binary_iterative_results=[]\n",
    "best_case_array_length=[]"
   ]
  },
  {
   "cell_type": "code",
   "execution_count": null,
   "metadata": {},
   "outputs": [],
   "source": [
    "# Plot best-case running times.\n",
    "\n",
    "x= 3\n",
    "while x <= len(input_array):\n",
    "    limited_input_array=input_array[0:x]\n",
    "    start=time.perf_counter()\n",
    "    \n",
    "    binary_iterative_results.append(binary_search_iterative(limited_input_array, limited_input_array[(len(limited_input_array)//2)]))\n",
    "    binary_iterative_time.append((time.perf_counter()-start)*10e6)\n",
    "    best_case_array_length.append(x)\n",
    "    x += 3\n",
    "\n",
    "n=best_case_array_length\n",
    "\n",
    "plt.figure(figsize=(8,6))\n",
    "plt.xlabel('Size of Array')\n",
    "plt.ylabel(\"Running Time, micro s\")\n",
    "plt.plot(n,binary_iterative_time)\n",
    "plt.savefig('Binary_Search_Iterative_Best_Case.png')\n",
    "plt.show()"
   ]
  },
  {
   "cell_type": "code",
   "execution_count": null,
   "metadata": {},
   "outputs": [],
   "source": [
    "binary_iterative_time1=[]\n",
    "binary_iterative_results1=[]\n",
    "worst_case_array_length=[]"
   ]
  },
  {
   "cell_type": "code",
   "execution_count": null,
   "metadata": {},
   "outputs": [],
   "source": [
    "# Plot worst-case running times.\n",
    "\n",
    "x= 3\n",
    "while x <= len(input_array):\n",
    "    limited_input_array=input_array[0:x]\n",
    "    start=time.perf_counter()\n",
    "    \n",
    "    binary_iterative_results1.append(binary_search_iterative(limited_input_array, limited_input_array[(len(limited_input_array)-1)]))\n",
    "    binary_iterative_time1.append((time.perf_counter()-start)*10e6)\n",
    "    worst_case_array_length.append(x)\n",
    "    x += 3\n",
    "\n",
    "\n",
    "n=worst_case_array_length\n",
    "\n",
    "plt.figure(figsize=(8,6))\n",
    "plt.xlabel('Size of Array')\n",
    "plt.ylabel(\"Running Time, micro s\")\n",
    "plt.plot(n,binary_iterative_time1)\n",
    "plt.savefig('Binary_Search_Iterative_Worst_Case.png')\n",
    "plt.show()"
   ]
  },
  {
   "cell_type": "code",
   "execution_count": null,
   "metadata": {},
   "outputs": [],
   "source": [
    "plt.figure(figsize=(8,6))\n",
    "plt.plot(best_case_array_length, binary_iterative_time, 'r', label=\"Binary Search - Iterative - Best Case\")\n",
    "plt.plot(worst_case_array_length, binary_iterative_time1, 'b', label=\"Binary Search - Iterative - Worst Case\")\n",
    "plt.xlabel('Size of Array')\n",
    "plt.ylabel('Running Time (micro seconds)')\n",
    "plt.savefig('Binary_Search_Iterative_Comparison.png')\n",
    "plt.legend()"
   ]
  },
  {
   "cell_type": "markdown",
   "metadata": {},
   "source": [
    "The graph above plots the best and worst case running times of the iterative binary search algorithm.\n",
    "\n",
    "The worst case for the iterative binary search algorithm is when the target value is either the first or last element in the array or not present in the array at all.\n",
    "\n",
    "The best case for this algorithm is when the target value is positioned at the half-way point of the array, as this is the first point which is inspected. \n",
    "\n",
    "The size of the array which the search is performed on is increased by three for each iteration. \n",
    "\n",
    "As can be seen the worst case does, indeed, have a longer runnning time than the best case. However, they both convey different time complexitites. \n",
    "\n",
    "The best case runs at a constant time complexity which is $\\mathcal{O}(1)$. The running time does not depend on the size of the input. \n",
    "\n",
    "In contrast, the worst case has a logarithmic time complexity which is $\\mathcal{O}(logn)$."
   ]
  },
  {
   "cell_type": "markdown",
   "metadata": {},
   "source": [
    "### Linear Search"
   ]
  },
  {
   "cell_type": "code",
   "execution_count": null,
   "metadata": {},
   "outputs": [],
   "source": [
    "# Python3 code to linearly search x in arr[].  \n",
    "# If x is present then return its location, \n",
    "# otherwise return -1 \n",
    "  \n",
    "def linear_search(arr, n, x): \n",
    "  \n",
    "    for i in range (0, n): \n",
    "        if (arr[i] == x): \n",
    "            return True; \n",
    "    return False; "
   ]
  },
  {
   "cell_type": "code",
   "execution_count": null,
   "metadata": {},
   "outputs": [],
   "source": [
    "# check for value in data using the linear_search algorithm \n",
    "# Should return true\n",
    "\n",
    "linear_search(input_array, len(input_array), 6)"
   ]
  },
  {
   "cell_type": "code",
   "execution_count": null,
   "metadata": {},
   "outputs": [],
   "source": [
    "# Best-case running time\n",
    "\n",
    "start=time.perf_counter()\n",
    "    \n",
    "linear_search(input_array, len(input_array), input_array[0])\n",
    "time_stop=time.perf_counter()\n",
    "\n",
    "# Compute best-case running time. \n",
    "\n",
    "print((time_stop-start)*10e6)"
   ]
  },
  {
   "cell_type": "markdown",
   "metadata": {},
   "source": [
    "The average best-case running time was 1309 microseconds."
   ]
  },
  {
   "cell_type": "code",
   "execution_count": null,
   "metadata": {},
   "outputs": [],
   "source": [
    "# Worst-case running time\n",
    "\n",
    "start=time.perf_counter()\n",
    "    \n",
    "linear_search(input_array, len(input_array), input_array[len(input_array)-1])\n",
    "time_stop=time.perf_counter()\n",
    "# Compute best-case running time. \n",
    "print((time_stop-start)*10e6)"
   ]
  },
  {
   "cell_type": "markdown",
   "metadata": {},
   "source": [
    "The average best-case running time was 2713 microseconds."
   ]
  },
  {
   "cell_type": "code",
   "execution_count": null,
   "metadata": {},
   "outputs": [],
   "source": [
    "linear_time=[]\n",
    "linear_results=[]\n",
    "worst_case_array_length=[]"
   ]
  },
  {
   "cell_type": "code",
   "execution_count": null,
   "metadata": {},
   "outputs": [],
   "source": [
    "x= 3\n",
    "while x <= len(input_array):\n",
    "    limited_input_array=input_array[0:x]\n",
    "    start=time.perf_counter()\n",
    "    \n",
    "    linear_results.append(linear_search(limited_input_array, len(limited_input_array), limited_input_array[len(limited_input_array)-1]))\n",
    "    linear_time.append((time.perf_counter()-start)*10e6)\n",
    "    worst_case_array_length.append(x)\n",
    "    x += 3\n"
   ]
  },
  {
   "cell_type": "code",
   "execution_count": null,
   "metadata": {},
   "outputs": [],
   "source": [
    "plt.figure(figsize=(8,6))\n",
    "plt.xlabel('n')\n",
    "plt.ylabel(\"Running Time, micro s\")\n",
    "plt.plot(worst_case_array_length,linear_time)\n",
    "plt.savefig('Linear_Worst_Case.png')\n",
    "plt.show()"
   ]
  },
  {
   "cell_type": "code",
   "execution_count": null,
   "metadata": {},
   "outputs": [],
   "source": [
    "linear_time1=[]\n",
    "linear_results1=[]\n",
    "best_case_array_length=[]"
   ]
  },
  {
   "cell_type": "code",
   "execution_count": null,
   "metadata": {},
   "outputs": [],
   "source": [
    "x= 3\n",
    "while x <= len(input_array):\n",
    "    limited_input_array=input_array[0:x]\n",
    "    start=time.perf_counter()\n",
    "    \n",
    "    linear_results1.append(linear_search(limited_input_array, len(limited_input_array), limited_input_array[0]))\n",
    "    linear_time1.append((time.perf_counter()-start)*10e6)\n",
    "    best_case_array_length.append(x)\n",
    "    x += 3\n"
   ]
  },
  {
   "cell_type": "code",
   "execution_count": null,
   "metadata": {},
   "outputs": [],
   "source": [
    "plt.figure(figsize=(8,6))\n",
    "plt.xlabel('n')\n",
    "plt.ylabel(\"Running Time, micro s\")\n",
    "plt.plot(best_case_array_length,linear_time1)\n",
    "plt.savefig('Linear_Best_Case.png')\n",
    "plt.show()"
   ]
  },
  {
   "cell_type": "code",
   "execution_count": null,
   "metadata": {},
   "outputs": [],
   "source": [
    "\n",
    "plt.figure(figsize=(8,6))\n",
    "plt.plot(worst_case_array_length, linear_time, 'g', label=\"Linear Search: Worst-Case\")\n",
    "plt.plot(best_case_array_length, linear_time1, 'y', label=\"Linear Search: Best-Case\")\n",
    "plt.xlabel('Size of Array')\n",
    "plt.ylabel('Running Time (micro seconds)')\n",
    "plt.savefig('Linear_Search_Algorithms_Comparison.png')\n",
    "plt.legend()"
   ]
  },
  {
   "cell_type": "markdown",
   "metadata": {},
   "source": [
    "The graph above plots the best and worst case running times of the linear search algorithm.\n",
    "\n",
    "The worst case for the linear search algorithm is when the target value is the last element in the array.\n",
    "\n",
    "The best case for this algorithm is when the target value is positioned at the beginning (zeroeth index) of the array, as this is the first point which is inspected.\n",
    "\n",
    "The size of the array which the search is performed on is increased by three for each iteration.\n",
    "\n",
    "As can be seen the worst case, naturally, has a longer runnning time than the best case. Like the binary search algorithm, they both convey different time complexitites.\n",
    "\n",
    "The best case runs at a constant time complexity which is $\\mathcal{O}(1)$. The running time does not depend on the size of the input.\n",
    "\n",
    "Contrastingly, the worst case has a linear complexity which is notated as $\\mathcal{O}(n)$."
   ]
  },
  {
   "cell_type": "code",
   "execution_count": null,
   "metadata": {},
   "outputs": [],
   "source": [
    "plt.figure(figsize=(8,6))\n",
    "plt.plot(best_case_array_length, binary_iterative_time, 'r', label=\"Binary Search - Iterative - Best Case\")\n",
    "plt.plot(worst_case_array_length, binary_iterative_time1, 'b', label=\"Binary Search - Iterative - Worst Case\")\n",
    "plt.plot(worst_case_array_length, linear_time, 'g', label=\"Linear Search: Worst-Case\")\n",
    "plt.plot(best_case_array_length, linear_time1, 'y', label=\"Linear Search: Best-Case\")\n",
    "plt.xlabel('Size of Array')\n",
    "plt.ylabel('Running Time (micro seconds)')\n",
    "plt.savefig('Binary_And_Linear_Search_Algorithms_Comparison.png')\n",
    "plt.legend()"
   ]
  },
  {
   "cell_type": "markdown",
   "metadata": {},
   "source": [
    "The graph above plots the best and worst case running times of the binary search and linear search algorithms.\n",
    "\n",
    "It is clear that the worst case running time of the linear search grows at a much faster rate than the binary search. \n",
    "\n",
    "From this graph, we can clearly see the differences between $\\mathcal{O}(n)$, $\\mathcal{O}(logn)$, and $\\mathcal{O}(1)$ time complexities."
   ]
  },
  {
   "cell_type": "markdown",
   "metadata": {},
   "source": [
    "## Part 5:"
   ]
  },
  {
   "cell_type": "code",
   "execution_count": null,
   "metadata": {},
   "outputs": [],
   "source": [
    "# curve fit() function imported from scipy\n",
    "\n",
    "def fit_1(x, a, b):\n",
    "    return a * x + b\n",
    "\n",
    "def fit_2(x, a, b, c, d):\n",
    "    return a * x ** 3 + b * x ** 2 + c * x + d\n",
    "\n",
    "xdata=np.array(input_array)\n",
    "ydata_1=np.array(iterative_time)\n",
    "\n",
    "param1, param_cov1 = curve_fit(fit_1, xdata, ydata_1)\n",
    "param2, param_cov2 = curve_fit(fit_2, xdata, ydata_1)\n",
    "\n",
    "plt.figure(figsize=(8,6))\n",
    "plt.plot(xdata, ydata_1, 'b', label=\"Factorial - Iterative\")\n",
    "plt.plot(xdata, fit_1(xdata, *param1), 'r-', label='Iterative Fit 1: a=%5.3f, b=%5.3f, ' % tuple(param1))\n",
    "plt.plot(xdata, fit_2(xdata, *param2), 'g-', label='Iterative Fit 2: a=%5.3f, b=%5.3f, c=%5.3f, d=%5.3f  ' % tuple(param2))\n",
    "plt.legend()\n",
    "plt.xlabel('n')\n",
    "plt.ylabel(\"Running Time (micro seconds)\")\n",
    "plt.savefig('Factorial_Iterative_Curve_Fit.png')\n"
   ]
  },
  {
   "cell_type": "markdown",
   "metadata": {},
   "source": [
    "The above graph shows a plot of the runnning time for the iterative factorial algorithm with two curve-fitting algorithms applied to it. Iterative Fit 1 (the red line) best captures the linear, $\\mathcal{O}(n)$ time complexity."
   ]
  },
  {
   "cell_type": "code",
   "execution_count": null,
   "metadata": {},
   "outputs": [],
   "source": [
    "def fit_1(x, a, b):\n",
    "    return a * x + b\n",
    "\n",
    "def fit_2(x, a, b, c, d):\n",
    "    return a * x ** 3 + b * x ** 2 + c * x + d\n",
    "\n",
    "xdata=np.array(input_array)\n",
    "ydata_1=np.array(non_tail_time)\n",
    "\n",
    "param1, param_cov1 = curve_fit(fit_1, xdata, ydata_1)\n",
    "param2, param_cov2 = curve_fit(fit_2, xdata, ydata_1)\n",
    "\n",
    "plt.figure(figsize=(8,6))\n",
    "plt.plot(xdata, ydata_1, 'b', label=\"Factorial - Recursive (Non-Tail)\")\n",
    "plt.plot(xdata, fit_1(xdata, *param1), 'r-', label='Non-Tail Fit 1: a=%5.3f, b=%5.3f, ' % tuple(param1))\n",
    "plt.plot(xdata, fit_2(xdata, *param2), 'g-', label='Non-Tail Fit 2: a=%5.3f, b=%5.3f, c=%5.3f, d=%5.3f  ' % tuple(param2))\n",
    "plt.legend()\n",
    "plt.xlabel('n')\n",
    "plt.ylabel(\"Running Time (micro seconds)\")\n",
    "plt.savefig('Factorial_Recursive_NonTail_Curve_Fit.png')\n"
   ]
  },
  {
   "cell_type": "markdown",
   "metadata": {},
   "source": [
    "The above graph shows a plot of the runnning time for the recursive (non-tail) factorial algorithm with two curve-fitting algorithms applied to it. Again, Iterative Fit 1 (the red line) best captures the linear, $\\mathcal{O}(n)$, time complexity."
   ]
  },
  {
   "cell_type": "code",
   "execution_count": null,
   "metadata": {},
   "outputs": [],
   "source": [
    "def fit_1(x, a, b):\n",
    "    return a * x + b\n",
    "\n",
    "def fit_2(x, a, b, c, d):\n",
    "    return a * x ** 3 + b * x ** 2 + c * x + d\n",
    "\n",
    "xdata=np.array(input_array)\n",
    "ydata_1=np.array(tail_time)\n",
    "\n",
    "param1, param_cov1 = curve_fit(fit_1, xdata, ydata_1)\n",
    "param2, param_cov2 = curve_fit(fit_2, xdata, ydata_1)\n",
    "\n",
    "plt.figure(figsize=(8,6))\n",
    "plt.plot(xdata, ydata_1, 'b', label=\"Factorial - Recursive (Tail)\")\n",
    "plt.plot(xdata, fit_1(xdata, *param1), 'r-', label='Tail Fit 1: a=%5.3f, b=%5.3f, ' % tuple(param1))\n",
    "plt.plot(xdata, fit_2(xdata, *param2), 'g-', label='Tail Fit 2: a=%5.3f, b=%5.3f, c=%5.3f, d=%5.3f  ' % tuple(param2))\n",
    "plt.legend()\n",
    "plt.xlabel('n')\n",
    "plt.ylabel(\"Running Time (micro seconds)\")\n",
    "plt.savefig('Factorial_Recursive_Tail_Curve_Fit.png')\n"
   ]
  },
  {
   "cell_type": "markdown",
   "metadata": {},
   "source": [
    "The above graph shows a plot of the runnning time for the recursive (tail) factorial algorithm with two curve-fitting algorithms applied to it. Again, Iterative Fit 1 (the red line) best captures the linear, $\\mathcal{O}(n)$,  time complexity."
   ]
  },
  {
   "cell_type": "code",
   "execution_count": null,
   "metadata": {},
   "outputs": [],
   "source": [
    "def fit_1(x, a, b):\n",
    "    return a * x + b\n",
    "\n",
    "def fit_2(x, a, b, c, d):\n",
    "    return a * x ** 3 + b * x ** 2 + c * x + d\n",
    "\n",
    "xdata=np.array(best_case_array_length)\n",
    "ydata_1=np.array(binary_iterative_time)\n",
    "\n",
    "param1, param_cov1 = curve_fit(fit_1, xdata, ydata_1)\n",
    "param2, param_cov2 = curve_fit(fit_2, xdata, ydata_1)\n",
    "\n",
    "plt.figure(figsize=(8,6))\n",
    "plt.plot(xdata, ydata_1, 'b', label=\"Binary Search - Iterative (Best Case)\")\n",
    "plt.plot(xdata, fit_1(xdata, *param1), 'r-', label='Best Case Fit 1: a=%5.3f, b=%5.3f, ' % tuple(param1))\n",
    "plt.plot(xdata, fit_2(xdata, *param2), 'g-', label='Best Case Fit 2: a=%5.3f, b=%5.3f, c=%5.3f, d=%5.3f  ' % tuple(param2))\n",
    "plt.legend()\n",
    "plt.xlabel('n')\n",
    "plt.ylabel(\"Running Time (micro seconds)\")\n",
    "plt.savefig('Binary_Search_Iterative_Best_Case_Curve_Fit.png')\n"
   ]
  },
  {
   "cell_type": "markdown",
   "metadata": {},
   "source": [
    "The above graph shows a plot of the best case runnning time for the iterative binary search algorithm with two curve-fitting algorithms applied to it. Iterative Fit 1 (the red line) best captures the constant, $\\mathcal{O}(1)$,  time complexity."
   ]
  },
  {
   "cell_type": "code",
   "execution_count": null,
   "metadata": {},
   "outputs": [],
   "source": [
    "def fit_1(x, a, b):\n",
    "    return a * x + b\n",
    "\n",
    "def fit_2(x, a, b, c, d):\n",
    "    return a * x ** 3 + b * x ** 2 + c * x + d\n",
    "\n",
    "xdata=np.array(worst_case_array_length)\n",
    "ydata_1=np.array(binary_iterative_time1)\n",
    "\n",
    "param1, param_cov1 = curve_fit(fit_1, xdata, ydata_1)\n",
    "param2, param_cov2 = curve_fit(fit_2, xdata, ydata_1)\n",
    "\n",
    "plt.figure(figsize=(8,6))\n",
    "plt.plot(xdata, ydata_1, 'b', label=\"Binary Search - Iterative (Worst Case)\")\n",
    "plt.plot(xdata, fit_1(xdata, *param1), 'r-', label='Worst Case Fit 1: a=%5.3f, b=%5.3f, ' % tuple(param1))\n",
    "plt.plot(xdata, fit_2(xdata, *param2), 'g-', label='Worst Case Fit 2: a=%5.3f, b=%5.3f, c=%5.3f, d=%5.3f  ' % tuple(param2))\n",
    "plt.legend()\n",
    "plt.xlabel('n')\n",
    "plt.ylabel(\"Running Time (micro seconds)\")\n",
    "plt.savefig('Binary_Search_Iterative_Worst_Case_Curve_Fit.png')"
   ]
  },
  {
   "cell_type": "markdown",
   "metadata": {},
   "source": [
    "The above graph shows a plot of the worst case runnning time for the iterative binary search algorithm with two curve-fitting algorithms applied to it. Iterative Fit 2 (the green line) conveys the logarithmic, $\\mathcal{O}(logn)$,  time complexity."
   ]
  },
  {
   "cell_type": "code",
   "execution_count": null,
   "metadata": {},
   "outputs": [],
   "source": [
    "def fit_1(x, a, b):\n",
    "    return a * x + b\n",
    "\n",
    "def fit_2(x, a, b, c, d):\n",
    "    return a * x ** 3 + b * x ** 2 + c * x + d\n",
    "\n",
    "xdata=np.array(worst_case_array_length)\n",
    "ydata_1=np.array(linear_time)\n",
    "\n",
    "param1, param_cov1 = curve_fit(fit_1, xdata, ydata_1)\n",
    "param2, param_cov2 = curve_fit(fit_2, xdata, ydata_1)\n",
    "\n",
    "plt.figure(figsize=(8,6))\n",
    "plt.plot(xdata, ydata_1, 'b', label=\"Linear Search - Worst Case\")\n",
    "plt.plot(xdata, fit_1(xdata, *param1), 'r-', label='Fit 1: a=%5.3f, b=%5.3f, ' % tuple(param1))\n",
    "plt.plot(xdata, fit_2(xdata, *param2), 'g-', label='Fit 2: a=%5.3f, b=%5.3f, c=%5.3f, d=%5.3f  ' % tuple(param2))\n",
    "plt.legend()\n",
    "plt.xlabel('n')\n",
    "plt.ylabel(\"Running Time (micro seconds)\")\n",
    "plt.savefig('Linear_Search_Worst_Case_Curve_Fit.png')"
   ]
  },
  {
   "cell_type": "markdown",
   "metadata": {},
   "source": [
    "The above graph shows a plot of the worst case runnning time for the linear search algorithm with two curve-fitting algorithms applied to it. Iterative Fit 1 (the red line) best represents the linear, $\\mathcal{O}(n)$,  time complexity."
   ]
  },
  {
   "cell_type": "code",
   "execution_count": null,
   "metadata": {},
   "outputs": [],
   "source": [
    "def fit_1(x, a, b):\n",
    "    return a * x + b\n",
    "\n",
    "def fit_2(x, a, b, c, d):\n",
    "    return a * x ** 3 + b * x ** 2 + c * x + d\n",
    "\n",
    "xdata=np.array(best_case_array_length)\n",
    "ydata_1=np.array(linear_time1)\n",
    "\n",
    "param1, param_cov1 = curve_fit(fit_1, xdata, ydata_1)\n",
    "param2, param_cov2 = curve_fit(fit_2, xdata, ydata_1)\n",
    "\n",
    "plt.figure(figsize=(8,6))\n",
    "plt.plot(xdata, ydata_1, 'b', label=\"Linear Search - Best Case\")\n",
    "plt.plot(xdata, fit_1(xdata, *param1), 'r-', label='Fit 1: a=%5.3f, b=%5.3f, ' % tuple(param1))\n",
    "plt.plot(xdata, fit_2(xdata, *param2), 'g-', label='Fit 2: a=%5.3f, b=%5.3f, c=%5.3f, d=%5.3f  ' % tuple(param2))\n",
    "plt.legend()\n",
    "plt.xlabel('n')\n",
    "plt.ylabel(\"Running Time (micro seconds)\")\n",
    "plt.savefig('Linear_Search_Best_Case_Case_Curve_Fit.png')"
   ]
  },
  {
   "cell_type": "markdown",
   "metadata": {},
   "source": [
    "The above graph shows a plot of the best case runnning time for the linear search algorithm with two curve-fitting algorithms applied to it. Iterative Fit 1 (the red line) should convey the constant, $\\mathcal{O}(1)$,  time complexity.\n",
    "However, the spike in running time at the beginning has caused the curve-fit to be slightly skewed."
   ]
  },
  {
   "cell_type": "code",
   "execution_count": null,
   "metadata": {},
   "outputs": [],
   "source": []
  }
 ],
 "metadata": {
  "kernelspec": {
   "display_name": "Python 3",
   "language": "python",
   "name": "python3"
  },
  "language_info": {
   "codemirror_mode": {
    "name": "ipython",
    "version": 3
   },
   "file_extension": ".py",
   "mimetype": "text/x-python",
   "name": "python",
   "nbconvert_exporter": "python",
   "pygments_lexer": "ipython3",
   "version": "3.7.6"
  }
 },
 "nbformat": 4,
 "nbformat_minor": 2
}
